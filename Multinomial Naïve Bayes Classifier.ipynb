{
 "cells": [
  {
   "cell_type": "markdown",
   "metadata": {
    "id": "On8jNRlH8ssw"
   },
   "source": [
    "## **Multinomial Naïve Bayes Classifier - The Youtube Dataset** "
   ]
  },
  {
   "cell_type": "markdown",
   "metadata": {
    "id": "zXisAwyF5VIq"
   },
   "source": [
    "**Context and Objective:** In this use case, we will explore a database extracted from the Youtube website. This database will be used to build multinomial Naïve Bayes classifier capable of filtering spam messages and ham messages. \n",
    "\n",
    "**Datasets:**  \n",
    "The database contains five CSV files, each with a set of comments from five Youtube videos. Each of the CSV files contains the following columns:  \n",
    "- COMMENT_ID: Id of the comment.  \n",
    "- AUTHOR: The author of the comment.   \n",
    "- DATE: Date of the comment.  \n",
    "- CONTENT: The text of the comment.  \n",
    "- CLASS: The class to which the comment belongs. 0 designates a harmless ham comment, while 1 designates a spam. \n",
    "\n",
    "Our task is to analyse the data from all five CSV files and train our algorithm to make good predictions on new data.  \n",
    "\n",
    "**Note:** This code was written on Jupyter Notebook.  \n",
    "**Language:** Python.  \n",
    "**Packages:** numpy, pandas, glob, sklearn, matplotlib, seaborn.\n",
    " "
   ]
  },
  {
   "cell_type": "markdown",
   "metadata": {
    "id": "6jkhZxzd9SFC"
   },
   "source": [
    "**Importing libraries**"
   ]
  },
  {
   "cell_type": "code",
   "execution_count": 1,
   "metadata": {
    "colab": {
     "base_uri": "https://localhost:8080/"
    },
    "executionInfo": {
     "elapsed": 2061,
     "status": "ok",
     "timestamp": 1661292812540,
     "user": {
      "displayName": "Sofiane Ikkour",
      "userId": "12163968403439377340"
     },
     "user_tz": -120
    },
    "id": "dFdRIz728fbV",
    "outputId": "8b326462-e8af-450f-bbc2-0b2b260e30fd"
   },
   "outputs": [],
   "source": [
    "import numpy as np\n",
    "import pandas as pd\n",
    "import glob\n",
    "\n",
    "from sklearn.feature_extraction.text import CountVectorizer\n",
    "from sklearn.model_selection import train_test_split\n",
    "from sklearn.naive_bayes import MultinomialNB\n",
    "from sklearn.metrics import ConfusionMatrixDisplay, classification_report\n",
    "\n",
    "import matplotlib.pyplot as plt\n",
    "import seaborn as sns"
   ]
  },
  {
   "cell_type": "markdown",
   "metadata": {
    "id": "TO3j_bu_9pGA"
   },
   "source": [
    "**Reading the database**"
   ]
  },
  {
   "cell_type": "code",
   "execution_count": 2,
   "metadata": {
    "colab": {
     "base_uri": "https://localhost:8080/"
    },
    "executionInfo": {
     "elapsed": 283,
     "status": "ok",
     "timestamp": 1661292817876,
     "user": {
      "displayName": "Sofiane Ikkour",
      "userId": "12163968403439377340"
     },
     "user_tz": -120
    },
    "id": "wRR0GXxt9sl6",
    "outputId": "a9265f4a-56e8-4d89-fe71-4c2d2b91fa69"
   },
   "outputs": [
    {
     "data": {
      "text/plain": [
       "['C:/Users/Aylan/Documents/IT/Datasets/youtube-dataset\\\\Youtube01.csv',\n",
       " 'C:/Users/Aylan/Documents/IT/Datasets/youtube-dataset\\\\Youtube02.csv',\n",
       " 'C:/Users/Aylan/Documents/IT/Datasets/youtube-dataset\\\\Youtube03.csv',\n",
       " 'C:/Users/Aylan/Documents/IT/Datasets/youtube-dataset\\\\Youtube04.csv',\n",
       " 'C:/Users/Aylan/Documents/IT/Datasets/youtube-dataset\\\\Youtube05.csv']"
      ]
     },
     "execution_count": 2,
     "metadata": {},
     "output_type": "execute_result"
    }
   ],
   "source": [
    "files = glob.glob('C:/Users/Aylan/Documents/IT/Datasets/youtube-dataset\\\\*.csv') # read the database\n",
    "files # print the content of files"
   ]
  },
  {
   "cell_type": "code",
   "execution_count": 3,
   "metadata": {
    "colab": {
     "base_uri": "https://localhost:8080/",
     "height": 424
    },
    "executionInfo": {
     "elapsed": 273,
     "status": "ok",
     "timestamp": 1661292824256,
     "user": {
      "displayName": "Sofiane Ikkour",
      "userId": "12163968403439377340"
     },
     "user_tz": -120
    },
    "id": "ZZ_WuxXk_d7G",
    "outputId": "a50c5d42-a683-47b2-b5f3-78ed360e7487"
   },
   "outputs": [
    {
     "data": {
      "text/html": [
       "<div>\n",
       "<style scoped>\n",
       "    .dataframe tbody tr th:only-of-type {\n",
       "        vertical-align: middle;\n",
       "    }\n",
       "\n",
       "    .dataframe tbody tr th {\n",
       "        vertical-align: top;\n",
       "    }\n",
       "\n",
       "    .dataframe thead th {\n",
       "        text-align: right;\n",
       "    }\n",
       "</style>\n",
       "<table border=\"1\" class=\"dataframe\">\n",
       "  <thead>\n",
       "    <tr style=\"text-align: right;\">\n",
       "      <th></th>\n",
       "      <th>COMMENT_ID</th>\n",
       "      <th>AUTHOR</th>\n",
       "      <th>DATE</th>\n",
       "      <th>CONTENT</th>\n",
       "      <th>CLASS</th>\n",
       "    </tr>\n",
       "  </thead>\n",
       "  <tbody>\n",
       "    <tr>\n",
       "      <th>0</th>\n",
       "      <td>LZQPQhLyRh80UYxNuaDWhIGQYNQ96IuCg-AYWqNPjpU</td>\n",
       "      <td>Julius NM</td>\n",
       "      <td>2013-11-07T06:20:48</td>\n",
       "      <td>Huh, anyway check out this you[tube] channel: ...</td>\n",
       "      <td>1</td>\n",
       "    </tr>\n",
       "    <tr>\n",
       "      <th>1</th>\n",
       "      <td>LZQPQhLyRh_C2cTtd9MvFRJedxydaVW-2sNg5Diuo4A</td>\n",
       "      <td>adam riyati</td>\n",
       "      <td>2013-11-07T12:37:15</td>\n",
       "      <td>Hey guys check out my new channel and our firs...</td>\n",
       "      <td>1</td>\n",
       "    </tr>\n",
       "    <tr>\n",
       "      <th>2</th>\n",
       "      <td>LZQPQhLyRh9MSZYnf8djyk0gEF9BHDPYrrK-qCczIY8</td>\n",
       "      <td>Evgeny Murashkin</td>\n",
       "      <td>2013-11-08T17:34:21</td>\n",
       "      <td>just for test I have to say murdev.com</td>\n",
       "      <td>1</td>\n",
       "    </tr>\n",
       "    <tr>\n",
       "      <th>3</th>\n",
       "      <td>z13fwbwp1oujthgqj04chlngpvzmtt3r3dw</td>\n",
       "      <td>GsMega</td>\n",
       "      <td>2013-11-10T16:05:38</td>\n",
       "      <td>watch?v=vtaRGgvGtWQ   Check this out .﻿</td>\n",
       "      <td>1</td>\n",
       "    </tr>\n",
       "    <tr>\n",
       "      <th>4</th>\n",
       "      <td>LZQPQhLyRh9-wNRtlZDM90f1k0BrdVdJyN_YsaSwfxc</td>\n",
       "      <td>Jason Haddad</td>\n",
       "      <td>2013-11-26T02:55:11</td>\n",
       "      <td>Hey, check out my new website!! This site is a...</td>\n",
       "      <td>1</td>\n",
       "    </tr>\n",
       "    <tr>\n",
       "      <th>...</th>\n",
       "      <td>...</td>\n",
       "      <td>...</td>\n",
       "      <td>...</td>\n",
       "      <td>...</td>\n",
       "      <td>...</td>\n",
       "    </tr>\n",
       "    <tr>\n",
       "      <th>344</th>\n",
       "      <td>z13th1q4yzihf1bll23qxzpjeujterydj</td>\n",
       "      <td>Carmen Racasanu</td>\n",
       "      <td>2014-11-14T13:27:52</td>\n",
       "      <td>How can this have 2 billion views when there's...</td>\n",
       "      <td>0</td>\n",
       "    </tr>\n",
       "    <tr>\n",
       "      <th>345</th>\n",
       "      <td>z13fcn1wfpb5e51xe04chdxakpzgchyaxzo0k</td>\n",
       "      <td>diego mogrovejo</td>\n",
       "      <td>2014-11-14T13:28:08</td>\n",
       "      <td>I don't now why I'm watching this in 2014﻿</td>\n",
       "      <td>0</td>\n",
       "    </tr>\n",
       "    <tr>\n",
       "      <th>346</th>\n",
       "      <td>z130zd5b3titudkoe04ccbeohojxuzppvbg</td>\n",
       "      <td>BlueYetiPlayz -Call Of Duty and More</td>\n",
       "      <td>2015-05-23T13:04:32</td>\n",
       "      <td>subscribe to me for call of duty vids and give...</td>\n",
       "      <td>1</td>\n",
       "    </tr>\n",
       "    <tr>\n",
       "      <th>347</th>\n",
       "      <td>z12he50arvrkivl5u04cctawgxzkjfsjcc4</td>\n",
       "      <td>Photo Editor</td>\n",
       "      <td>2015-06-05T14:14:48</td>\n",
       "      <td>hi guys please my android photo editor downloa...</td>\n",
       "      <td>1</td>\n",
       "    </tr>\n",
       "    <tr>\n",
       "      <th>348</th>\n",
       "      <td>z13vhvu54u3ewpp5h04ccb4zuoardrmjlyk0k</td>\n",
       "      <td>Ray Benich</td>\n",
       "      <td>2015-06-05T18:05:16</td>\n",
       "      <td>The first billion viewed this because they tho...</td>\n",
       "      <td>0</td>\n",
       "    </tr>\n",
       "  </tbody>\n",
       "</table>\n",
       "<p>349 rows × 5 columns</p>\n",
       "</div>"
      ],
      "text/plain": [
       "                                      COMMENT_ID  \\\n",
       "0    LZQPQhLyRh80UYxNuaDWhIGQYNQ96IuCg-AYWqNPjpU   \n",
       "1    LZQPQhLyRh_C2cTtd9MvFRJedxydaVW-2sNg5Diuo4A   \n",
       "2    LZQPQhLyRh9MSZYnf8djyk0gEF9BHDPYrrK-qCczIY8   \n",
       "3            z13fwbwp1oujthgqj04chlngpvzmtt3r3dw   \n",
       "4    LZQPQhLyRh9-wNRtlZDM90f1k0BrdVdJyN_YsaSwfxc   \n",
       "..                                           ...   \n",
       "344            z13th1q4yzihf1bll23qxzpjeujterydj   \n",
       "345        z13fcn1wfpb5e51xe04chdxakpzgchyaxzo0k   \n",
       "346          z130zd5b3titudkoe04ccbeohojxuzppvbg   \n",
       "347          z12he50arvrkivl5u04cctawgxzkjfsjcc4   \n",
       "348        z13vhvu54u3ewpp5h04ccb4zuoardrmjlyk0k   \n",
       "\n",
       "                                   AUTHOR                 DATE  \\\n",
       "0                               Julius NM  2013-11-07T06:20:48   \n",
       "1                             adam riyati  2013-11-07T12:37:15   \n",
       "2                        Evgeny Murashkin  2013-11-08T17:34:21   \n",
       "3                                  GsMega  2013-11-10T16:05:38   \n",
       "4                            Jason Haddad  2013-11-26T02:55:11   \n",
       "..                                    ...                  ...   \n",
       "344                       Carmen Racasanu  2014-11-14T13:27:52   \n",
       "345                       diego mogrovejo  2014-11-14T13:28:08   \n",
       "346  BlueYetiPlayz -Call Of Duty and More  2015-05-23T13:04:32   \n",
       "347                          Photo Editor  2015-06-05T14:14:48   \n",
       "348                            Ray Benich  2015-06-05T18:05:16   \n",
       "\n",
       "                                               CONTENT  CLASS  \n",
       "0    Huh, anyway check out this you[tube] channel: ...      1  \n",
       "1    Hey guys check out my new channel and our firs...      1  \n",
       "2               just for test I have to say murdev.com      1  \n",
       "3              watch?v=vtaRGgvGtWQ   Check this out .﻿      1  \n",
       "4    Hey, check out my new website!! This site is a...      1  \n",
       "..                                                 ...    ...  \n",
       "344  How can this have 2 billion views when there's...      0  \n",
       "345         I don't now why I'm watching this in 2014﻿      0  \n",
       "346  subscribe to me for call of duty vids and give...      1  \n",
       "347  hi guys please my android photo editor downloa...      1  \n",
       "348  The first billion viewed this because they tho...      0  \n",
       "\n",
       "[349 rows x 5 columns]"
      ]
     },
     "execution_count": 3,
     "metadata": {},
     "output_type": "execute_result"
    }
   ],
   "source": [
    "# create an empty list in which we store all the datasets\n",
    "all_df = []\n",
    "for i in files:\n",
    "  all_df.append(pd.read_csv(i))\n",
    "\n",
    "# display the first dataset\n",
    "all_df[0]"
   ]
  },
  {
   "cell_type": "code",
   "execution_count": 4,
   "metadata": {
    "colab": {
     "base_uri": "https://localhost:8080/",
     "height": 424
    },
    "executionInfo": {
     "elapsed": 311,
     "status": "ok",
     "timestamp": 1661292828945,
     "user": {
      "displayName": "Sofiane Ikkour",
      "userId": "12163968403439377340"
     },
     "user_tz": -120
    },
    "id": "5MIPvXUICSi1",
    "outputId": "f0c26247-30cc-4c71-a98d-fdc276cbda01"
   },
   "outputs": [
    {
     "data": {
      "text/html": [
       "<div>\n",
       "<style scoped>\n",
       "    .dataframe tbody tr th:only-of-type {\n",
       "        vertical-align: middle;\n",
       "    }\n",
       "\n",
       "    .dataframe tbody tr th {\n",
       "        vertical-align: top;\n",
       "    }\n",
       "\n",
       "    .dataframe thead th {\n",
       "        text-align: right;\n",
       "    }\n",
       "</style>\n",
       "<table border=\"1\" class=\"dataframe\">\n",
       "  <thead>\n",
       "    <tr style=\"text-align: right;\">\n",
       "      <th></th>\n",
       "      <th>CONTENT</th>\n",
       "      <th>CLASS</th>\n",
       "    </tr>\n",
       "  </thead>\n",
       "  <tbody>\n",
       "    <tr>\n",
       "      <th>0</th>\n",
       "      <td>Huh, anyway check out this you[tube] channel: ...</td>\n",
       "      <td>1</td>\n",
       "    </tr>\n",
       "    <tr>\n",
       "      <th>1</th>\n",
       "      <td>Hey guys check out my new channel and our firs...</td>\n",
       "      <td>1</td>\n",
       "    </tr>\n",
       "    <tr>\n",
       "      <th>2</th>\n",
       "      <td>just for test I have to say murdev.com</td>\n",
       "      <td>1</td>\n",
       "    </tr>\n",
       "    <tr>\n",
       "      <th>3</th>\n",
       "      <td>watch?v=vtaRGgvGtWQ   Check this out .﻿</td>\n",
       "      <td>1</td>\n",
       "    </tr>\n",
       "    <tr>\n",
       "      <th>4</th>\n",
       "      <td>Hey, check out my new website!! This site is a...</td>\n",
       "      <td>1</td>\n",
       "    </tr>\n",
       "    <tr>\n",
       "      <th>...</th>\n",
       "      <td>...</td>\n",
       "      <td>...</td>\n",
       "    </tr>\n",
       "    <tr>\n",
       "      <th>344</th>\n",
       "      <td>How can this have 2 billion views when there's...</td>\n",
       "      <td>0</td>\n",
       "    </tr>\n",
       "    <tr>\n",
       "      <th>345</th>\n",
       "      <td>I don't now why I'm watching this in 2014﻿</td>\n",
       "      <td>0</td>\n",
       "    </tr>\n",
       "    <tr>\n",
       "      <th>346</th>\n",
       "      <td>subscribe to me for call of duty vids and give...</td>\n",
       "      <td>1</td>\n",
       "    </tr>\n",
       "    <tr>\n",
       "      <th>347</th>\n",
       "      <td>hi guys please my android photo editor downloa...</td>\n",
       "      <td>1</td>\n",
       "    </tr>\n",
       "    <tr>\n",
       "      <th>348</th>\n",
       "      <td>The first billion viewed this because they tho...</td>\n",
       "      <td>0</td>\n",
       "    </tr>\n",
       "  </tbody>\n",
       "</table>\n",
       "<p>349 rows × 2 columns</p>\n",
       "</div>"
      ],
      "text/plain": [
       "                                               CONTENT  CLASS\n",
       "0    Huh, anyway check out this you[tube] channel: ...      1\n",
       "1    Hey guys check out my new channel and our firs...      1\n",
       "2               just for test I have to say murdev.com      1\n",
       "3              watch?v=vtaRGgvGtWQ   Check this out .﻿      1\n",
       "4    Hey, check out my new website!! This site is a...      1\n",
       "..                                                 ...    ...\n",
       "344  How can this have 2 billion views when there's...      0\n",
       "345         I don't now why I'm watching this in 2014﻿      0\n",
       "346  subscribe to me for call of duty vids and give...      1\n",
       "347  hi guys please my android photo editor downloa...      1\n",
       "348  The first billion viewed this because they tho...      0\n",
       "\n",
       "[349 rows x 2 columns]"
      ]
     },
     "execution_count": 4,
     "metadata": {},
     "output_type": "execute_result"
    }
   ],
   "source": [
    "# for our Naïve Bayes classifier we'll only need the two columns \"CONTENT\" and \"CLASS\"\n",
    "# we can remove the following columns \"COMMENT_ID\", \"AUTHOR\" and \"DATE\"\n",
    "all_df_updated = []\n",
    "for data in all_df:\n",
    "  all_df_updated.append(data.drop([\"COMMENT_ID\", \"AUTHOR\", \"DATE\"], axis = 1))\n",
    "\n",
    "# display the first dataset\n",
    "all_df_updated[0]"
   ]
  },
  {
   "cell_type": "code",
   "execution_count": 5,
   "metadata": {
    "colab": {
     "base_uri": "https://localhost:8080/",
     "height": 206
    },
    "executionInfo": {
     "elapsed": 336,
     "status": "ok",
     "timestamp": 1661292833177,
     "user": {
      "displayName": "Sofiane Ikkour",
      "userId": "12163968403439377340"
     },
     "user_tz": -120
    },
    "id": "7gPXN8REFn2y",
    "outputId": "cac169b6-b8a6-4c20-923c-2cae3f9cdecf"
   },
   "outputs": [
    {
     "data": {
      "text/html": [
       "<div>\n",
       "<style scoped>\n",
       "    .dataframe tbody tr th:only-of-type {\n",
       "        vertical-align: middle;\n",
       "    }\n",
       "\n",
       "    .dataframe tbody tr th {\n",
       "        vertical-align: top;\n",
       "    }\n",
       "\n",
       "    .dataframe thead th {\n",
       "        text-align: right;\n",
       "    }\n",
       "</style>\n",
       "<table border=\"1\" class=\"dataframe\">\n",
       "  <thead>\n",
       "    <tr style=\"text-align: right;\">\n",
       "      <th></th>\n",
       "      <th>CONTENT</th>\n",
       "      <th>CLASS</th>\n",
       "    </tr>\n",
       "  </thead>\n",
       "  <tbody>\n",
       "    <tr>\n",
       "      <th>0</th>\n",
       "      <td>Huh, anyway check out this you[tube] channel: ...</td>\n",
       "      <td>1</td>\n",
       "    </tr>\n",
       "    <tr>\n",
       "      <th>1</th>\n",
       "      <td>Hey guys check out my new channel and our firs...</td>\n",
       "      <td>1</td>\n",
       "    </tr>\n",
       "    <tr>\n",
       "      <th>2</th>\n",
       "      <td>just for test I have to say murdev.com</td>\n",
       "      <td>1</td>\n",
       "    </tr>\n",
       "    <tr>\n",
       "      <th>3</th>\n",
       "      <td>watch?v=vtaRGgvGtWQ   Check this out .﻿</td>\n",
       "      <td>1</td>\n",
       "    </tr>\n",
       "    <tr>\n",
       "      <th>4</th>\n",
       "      <td>Hey, check out my new website!! This site is a...</td>\n",
       "      <td>1</td>\n",
       "    </tr>\n",
       "  </tbody>\n",
       "</table>\n",
       "</div>"
      ],
      "text/plain": [
       "                                             CONTENT  CLASS\n",
       "0  Huh, anyway check out this you[tube] channel: ...      1\n",
       "1  Hey guys check out my new channel and our firs...      1\n",
       "2             just for test I have to say murdev.com      1\n",
       "3            watch?v=vtaRGgvGtWQ   Check this out .﻿      1\n",
       "4  Hey, check out my new website!! This site is a...      1"
      ]
     },
     "execution_count": 5,
     "metadata": {},
     "output_type": "execute_result"
    }
   ],
   "source": [
    "# combine all the five datasets into one single dataframe\n",
    "data_combined = pd.concat(all_df_updated, axis = 0, ignore_index = True)\n",
    "\n",
    "# display the combined dataset\n",
    "data_combined.head()"
   ]
  },
  {
   "cell_type": "code",
   "execution_count": 6,
   "metadata": {
    "colab": {
     "base_uri": "https://localhost:8080/"
    },
    "executionInfo": {
     "elapsed": 264,
     "status": "ok",
     "timestamp": 1661292837052,
     "user": {
      "displayName": "Sofiane Ikkour",
      "userId": "12163968403439377340"
     },
     "user_tz": -120
    },
    "id": "sPZQah2eGX5E",
    "outputId": "efb2da17-4b67-42e6-8c84-1f787b1d5f07"
   },
   "outputs": [
    {
     "data": {
      "text/plain": [
       "CONTENT    0\n",
       "CLASS      0\n",
       "dtype: int64"
      ]
     },
     "execution_count": 6,
     "metadata": {},
     "output_type": "execute_result"
    }
   ],
   "source": [
    "# check for missing values\n",
    "data_combined.isnull().sum()"
   ]
  },
  {
   "cell_type": "code",
   "execution_count": 7,
   "metadata": {
    "colab": {
     "base_uri": "https://localhost:8080/"
    },
    "executionInfo": {
     "elapsed": 275,
     "status": "ok",
     "timestamp": 1661292838324,
     "user": {
      "displayName": "Sofiane Ikkour",
      "userId": "12163968403439377340"
     },
     "user_tz": -120
    },
    "id": "e0RY4SXfGxT3",
    "outputId": "b55838b6-6cc1-4861-cbea-697179a0d4f2"
   },
   "outputs": [
    {
     "data": {
      "text/plain": [
       "1    1004\n",
       "0     951\n",
       "Name: CLASS, dtype: int64"
      ]
     },
     "execution_count": 7,
     "metadata": {},
     "output_type": "execute_result"
    }
   ],
   "source": [
    "# let's count the number of values for each class in this dataset\n",
    "data_combined['CLASS'].value_counts()"
   ]
  },
  {
   "cell_type": "markdown",
   "metadata": {
    "id": "lc06F1LQHHsv"
   },
   "source": [
    "**Insight:**  \n",
    "The class 1 reprensents the number of spam messages and class 0 represents the number of ham messages. The number of spam messages is 1004 and the number of ham messages is 951.  \n",
    "This is good for our model since the data is almost perfectly balanced."
   ]
  },
  {
   "cell_type": "markdown",
   "metadata": {
    "id": "yW546wp_1Hix"
   },
   "source": [
    "**Data preprocessing**"
   ]
  },
  {
   "cell_type": "code",
   "execution_count": 8,
   "metadata": {
    "executionInfo": {
     "elapsed": 272,
     "status": "ok",
     "timestamp": 1661292852146,
     "user": {
      "displayName": "Sofiane Ikkour",
      "userId": "12163968403439377340"
     },
     "user_tz": -120
    },
    "id": "hiAd5oRexcFI"
   },
   "outputs": [],
   "source": [
    "# assign the \"CONTENT\" column into a variable named inputs\n",
    "inputs = data_combined[\"CONTENT\"]\n",
    "\n",
    "# assign the \"CLASS\" column into a variable named target\n",
    "target = data_combined[\"CLASS\"]"
   ]
  },
  {
   "cell_type": "code",
   "execution_count": 9,
   "metadata": {
    "colab": {
     "base_uri": "https://localhost:8080/"
    },
    "executionInfo": {
     "elapsed": 303,
     "status": "ok",
     "timestamp": 1661292854357,
     "user": {
      "displayName": "Sofiane Ikkour",
      "userId": "12163968403439377340"
     },
     "user_tz": -120
    },
    "id": "YU_4B_bfZavU",
    "outputId": "49d588ed-b80c-468e-fdf1-ba4c1e145a68"
   },
   "outputs": [
    {
     "data": {
      "text/plain": [
       "0       Huh, anyway check out this you[tube] channel: ...\n",
       "1       Hey guys check out my new channel and our firs...\n",
       "2                  just for test I have to say murdev.com\n",
       "3                 watch?v=vtaRGgvGtWQ   Check this out .﻿\n",
       "4       Hey, check out my new website!! This site is a...\n",
       "                              ...                        \n",
       "1950    I love this song because we sing it at Camp al...\n",
       "1951    I love this song for two reasons: 1.it is abou...\n",
       "1952                                                  wow\n",
       "1953                              Shakira u are so wiredo\n",
       "1954                           Shakira is the best dancer\n",
       "Name: CONTENT, Length: 1955, dtype: object"
      ]
     },
     "execution_count": 9,
     "metadata": {},
     "output_type": "execute_result"
    }
   ],
   "source": [
    "inputs"
   ]
  },
  {
   "cell_type": "code",
   "execution_count": 10,
   "metadata": {
    "executionInfo": {
     "elapsed": 270,
     "status": "ok",
     "timestamp": 1661292859090,
     "user": {
      "displayName": "Sofiane Ikkour",
      "userId": "12163968403439377340"
     },
     "user_tz": -120
    },
    "id": "oPy8yMzeix7h"
   },
   "outputs": [],
   "source": [
    "# split the data into train and test datasets\n",
    "X_train, X_test, y_train, y_test = train_test_split(inputs, target, \n",
    "                                                    test_size = 0.2,\n",
    "                                                    random_state = 365,\n",
    "                                                    stratify = target) "
   ]
  },
  {
   "cell_type": "code",
   "execution_count": 11,
   "metadata": {
    "colab": {
     "base_uri": "https://localhost:8080/"
    },
    "executionInfo": {
     "elapsed": 284,
     "status": "ok",
     "timestamp": 1661292860789,
     "user": {
      "displayName": "Sofiane Ikkour",
      "userId": "12163968403439377340"
     },
     "user_tz": -120
    },
    "id": "r1I8qsJ0kYv8",
    "outputId": "c3775a7c-0121-4024-91d1-b151f57bf14c"
   },
   "outputs": [
    {
     "data": {
      "text/plain": [
       "1    0.513427\n",
       "0    0.486573\n",
       "Name: CLASS, dtype: float64"
      ]
     },
     "execution_count": 11,
     "metadata": {},
     "output_type": "execute_result"
    }
   ],
   "source": [
    "# verify the proportions of y_train and y_test datasets\n",
    "y_train.value_counts(normalize = True) "
   ]
  },
  {
   "cell_type": "code",
   "execution_count": 12,
   "metadata": {
    "colab": {
     "base_uri": "https://localhost:8080/"
    },
    "executionInfo": {
     "elapsed": 269,
     "status": "ok",
     "timestamp": 1661292862836,
     "user": {
      "displayName": "Sofiane Ikkour",
      "userId": "12163968403439377340"
     },
     "user_tz": -120
    },
    "id": "LtuzZL_9k4WW",
    "outputId": "e05a74dd-27f5-4634-9637-c9f727b73560"
   },
   "outputs": [
    {
     "data": {
      "text/plain": [
       "1    0.514066\n",
       "0    0.485934\n",
       "Name: CLASS, dtype: float64"
      ]
     },
     "execution_count": 12,
     "metadata": {},
     "output_type": "execute_result"
    }
   ],
   "source": [
    "y_test.value_counts(normalize = True)"
   ]
  },
  {
   "cell_type": "code",
   "execution_count": 13,
   "metadata": {
    "colab": {
     "base_uri": "https://localhost:8080/"
    },
    "executionInfo": {
     "elapsed": 283,
     "status": "ok",
     "timestamp": 1661292864882,
     "user": {
      "displayName": "Sofiane Ikkour",
      "userId": "12163968403439377340"
     },
     "user_tz": -120
    },
    "id": "y84mBI-cZxkA",
    "outputId": "37a1291f-dd17-4bef-ac3a-a485da921e54"
   },
   "outputs": [
    {
     "data": {
      "text/plain": [
       "array([[0, 0, 0, ..., 0, 0, 0],\n",
       "       [0, 0, 0, ..., 0, 0, 0],\n",
       "       [0, 0, 0, ..., 0, 0, 0],\n",
       "       ...,\n",
       "       [0, 0, 0, ..., 0, 0, 0],\n",
       "       [0, 0, 0, ..., 0, 0, 0],\n",
       "       [0, 0, 0, ..., 0, 0, 0]], dtype=int64)"
      ]
     },
     "execution_count": 13,
     "metadata": {},
     "output_type": "execute_result"
    }
   ],
   "source": [
    "# convert the text of the \"CONTENT\" column into a matrix of tokens for both X_train and X_test\n",
    "vectorizer = CountVectorizer()\n",
    "X_train_transf = vectorizer.fit_transform(X_train)\n",
    "X_test_transf = vectorizer.transform(X_test)\n",
    "\n",
    "# print X_train_transf\n",
    "X_train_transf.toarray()"
   ]
  },
  {
   "cell_type": "code",
   "execution_count": 14,
   "metadata": {
    "colab": {
     "base_uri": "https://localhost:8080/"
    },
    "executionInfo": {
     "elapsed": 2025,
     "status": "ok",
     "timestamp": 1661292871568,
     "user": {
      "displayName": "Sofiane Ikkour",
      "userId": "12163968403439377340"
     },
     "user_tz": -120
    },
    "id": "CHjS_ALahYEo",
    "outputId": "c4d4b3e7-9597-45dc-e3c3-923914acd0b9"
   },
   "outputs": [
    {
     "name": "stdout",
     "output_type": "stream",
     "text": [
      "(1564, 3925)\n",
      "(391, 3925)\n"
     ]
    }
   ],
   "source": [
    "# print shape of X_train_transf\n",
    "print(X_train_transf.shape)\n",
    "\n",
    "# print shape of X_test_transf\n",
    "print(X_test_transf.shape)"
   ]
  },
  {
   "cell_type": "markdown",
   "metadata": {
    "id": "1gMkWSKo8bgE"
   },
   "source": [
    "**Insight:**  \n",
    "- The number of rows for X_train_transf is 1564 and 391 for X_test_transf.  \n",
    "- The number of words is 3822 for both X_train_transf and X_test_transf."
   ]
  },
  {
   "cell_type": "markdown",
   "metadata": {
    "id": "IW6wZr5wqgy6"
   },
   "source": [
    "**Classification**\n",
    "\n",
    "In this section, we will build our Naïve Bayes classifier. The sklearn library offers a variety of classifiers: Gaussian, Bernoulli, Categorical, Complement and Multinomial.  \n",
    "The complement and multinomial classifiers are the ones best-suited for text classification. The complement claissifier handles better imballanced data. Our data analysis revealed that our data is rather balanced, so in our case we'll use the multinomial classifier. "
   ]
  },
  {
   "cell_type": "code",
   "execution_count": 15,
   "metadata": {
    "colab": {
     "base_uri": "https://localhost:8080/"
    },
    "executionInfo": {
     "elapsed": 573,
     "status": "ok",
     "timestamp": 1661292876857,
     "user": {
      "displayName": "Sofiane Ikkour",
      "userId": "12163968403439377340"
     },
     "user_tz": -120
    },
    "id": "7zRGkHv8hq-v",
    "outputId": "fabc3506-8654-48ed-838a-6ea2e004ad11",
    "scrolled": true
   },
   "outputs": [
    {
     "data": {
      "text/html": [
       "<style>#sk-container-id-1 {color: black;background-color: white;}#sk-container-id-1 pre{padding: 0;}#sk-container-id-1 div.sk-toggleable {background-color: white;}#sk-container-id-1 label.sk-toggleable__label {cursor: pointer;display: block;width: 100%;margin-bottom: 0;padding: 0.3em;box-sizing: border-box;text-align: center;}#sk-container-id-1 label.sk-toggleable__label-arrow:before {content: \"▸\";float: left;margin-right: 0.25em;color: #696969;}#sk-container-id-1 label.sk-toggleable__label-arrow:hover:before {color: black;}#sk-container-id-1 div.sk-estimator:hover label.sk-toggleable__label-arrow:before {color: black;}#sk-container-id-1 div.sk-toggleable__content {max-height: 0;max-width: 0;overflow: hidden;text-align: left;background-color: #f0f8ff;}#sk-container-id-1 div.sk-toggleable__content pre {margin: 0.2em;color: black;border-radius: 0.25em;background-color: #f0f8ff;}#sk-container-id-1 input.sk-toggleable__control:checked~div.sk-toggleable__content {max-height: 200px;max-width: 100%;overflow: auto;}#sk-container-id-1 input.sk-toggleable__control:checked~label.sk-toggleable__label-arrow:before {content: \"▾\";}#sk-container-id-1 div.sk-estimator input.sk-toggleable__control:checked~label.sk-toggleable__label {background-color: #d4ebff;}#sk-container-id-1 div.sk-label input.sk-toggleable__control:checked~label.sk-toggleable__label {background-color: #d4ebff;}#sk-container-id-1 input.sk-hidden--visually {border: 0;clip: rect(1px 1px 1px 1px);clip: rect(1px, 1px, 1px, 1px);height: 1px;margin: -1px;overflow: hidden;padding: 0;position: absolute;width: 1px;}#sk-container-id-1 div.sk-estimator {font-family: monospace;background-color: #f0f8ff;border: 1px dotted black;border-radius: 0.25em;box-sizing: border-box;margin-bottom: 0.5em;}#sk-container-id-1 div.sk-estimator:hover {background-color: #d4ebff;}#sk-container-id-1 div.sk-parallel-item::after {content: \"\";width: 100%;border-bottom: 1px solid gray;flex-grow: 1;}#sk-container-id-1 div.sk-label:hover label.sk-toggleable__label {background-color: #d4ebff;}#sk-container-id-1 div.sk-serial::before {content: \"\";position: absolute;border-left: 1px solid gray;box-sizing: border-box;top: 0;bottom: 0;left: 50%;z-index: 0;}#sk-container-id-1 div.sk-serial {display: flex;flex-direction: column;align-items: center;background-color: white;padding-right: 0.2em;padding-left: 0.2em;position: relative;}#sk-container-id-1 div.sk-item {position: relative;z-index: 1;}#sk-container-id-1 div.sk-parallel {display: flex;align-items: stretch;justify-content: center;background-color: white;position: relative;}#sk-container-id-1 div.sk-item::before, #sk-container-id-1 div.sk-parallel-item::before {content: \"\";position: absolute;border-left: 1px solid gray;box-sizing: border-box;top: 0;bottom: 0;left: 50%;z-index: -1;}#sk-container-id-1 div.sk-parallel-item {display: flex;flex-direction: column;z-index: 1;position: relative;background-color: white;}#sk-container-id-1 div.sk-parallel-item:first-child::after {align-self: flex-end;width: 50%;}#sk-container-id-1 div.sk-parallel-item:last-child::after {align-self: flex-start;width: 50%;}#sk-container-id-1 div.sk-parallel-item:only-child::after {width: 0;}#sk-container-id-1 div.sk-dashed-wrapped {border: 1px dashed gray;margin: 0 0.4em 0.5em 0.4em;box-sizing: border-box;padding-bottom: 0.4em;background-color: white;}#sk-container-id-1 div.sk-label label {font-family: monospace;font-weight: bold;display: inline-block;line-height: 1.2em;}#sk-container-id-1 div.sk-label-container {text-align: center;}#sk-container-id-1 div.sk-container {/* jupyter's `normalize.less` sets `[hidden] { display: none; }` but bootstrap.min.css set `[hidden] { display: none !important; }` so we also need the `!important` here to be able to override the default hidden behavior on the sphinx rendered scikit-learn.org. See: https://github.com/scikit-learn/scikit-learn/issues/21755 */display: inline-block !important;position: relative;}#sk-container-id-1 div.sk-text-repr-fallback {display: none;}</style><div id=\"sk-container-id-1\" class=\"sk-top-container\"><div class=\"sk-text-repr-fallback\"><pre>MultinomialNB()</pre><b>In a Jupyter environment, please rerun this cell to show the HTML representation or trust the notebook. <br />On GitHub, the HTML representation is unable to render, please try loading this page with nbviewer.org.</b></div><div class=\"sk-container\" hidden><div class=\"sk-item\"><div class=\"sk-estimator sk-toggleable\"><input class=\"sk-toggleable__control sk-hidden--visually\" id=\"sk-estimator-id-1\" type=\"checkbox\" checked><label for=\"sk-estimator-id-1\" class=\"sk-toggleable__label sk-toggleable__label-arrow\">MultinomialNB</label><div class=\"sk-toggleable__content\"><pre>MultinomialNB()</pre></div></div></div></div></div>"
      ],
      "text/plain": [
       "MultinomialNB()"
      ]
     },
     "execution_count": 15,
     "metadata": {},
     "output_type": "execute_result"
    }
   ],
   "source": [
    "# perform the classification\n",
    "clf = MultinomialNB()\n",
    "clf.fit(X_train_transf, y_train)"
   ]
  },
  {
   "cell_type": "code",
   "execution_count": 16,
   "metadata": {
    "colab": {
     "base_uri": "https://localhost:8080/"
    },
    "executionInfo": {
     "elapsed": 11,
     "status": "ok",
     "timestamp": 1661292878831,
     "user": {
      "displayName": "Sofiane Ikkour",
      "userId": "12163968403439377340"
     },
     "user_tz": -120
    },
    "id": "zYA57MNPqipi",
    "outputId": "2d1565db-f55e-4f5f-9036-ae637d14249e"
   },
   "outputs": [
    {
     "data": {
      "text/plain": [
       "{'alpha': 1.0, 'class_prior': None, 'fit_prior': True}"
      ]
     },
     "execution_count": 16,
     "metadata": {},
     "output_type": "execute_result"
    }
   ],
   "source": [
    "# get the parameters to be used for this classifier\n",
    "clf.get_params()"
   ]
  },
  {
   "cell_type": "markdown",
   "metadata": {
    "id": "GanIloDADerp"
   },
   "source": [
    "- The 'alpha' parameter: it is worth exploring how this classifier deals with unknown features, that is, data seen in the test data but not in the training data. When we have such a case, we introduce a smoothing parameter called alpha. The purpose of this parameter is to give each word a miminum count which is alpha in order to avoid the conditional probability to be zero in some cases. If the count of a word is non-zero, then the updated count becomes the old one + alpha. In this way, the conditional probability of each word can never be zero. By default this parameter is set to 1 in sklearn.  \n",
    "- The 'class_prior' parameter: this parameter is used to set specific values for prior probabilities. Otherwise, the priors are adjusted accordingly to the training data. \n",
    "- The 'fit-prior' parameter: this is a boolean parameter that asks whether to learn the prior probabilities. If the parameter is set to False, sklearn adopts a uniform prior. "
   ]
  },
  {
   "cell_type": "markdown",
   "metadata": {
    "id": "oDhRE9V_OMgK"
   },
   "source": [
    "**Performing the evaluation on the test dataset**"
   ]
  },
  {
   "cell_type": "code",
   "execution_count": 17,
   "metadata": {
    "executionInfo": {
     "elapsed": 756,
     "status": "ok",
     "timestamp": 1661292885507,
     "user": {
      "displayName": "Sofiane Ikkour",
      "userId": "12163968403439377340"
     },
     "user_tz": -120
    },
    "id": "S8myIGm3Ku79"
   },
   "outputs": [],
   "source": [
    "# create the predictions\n",
    "y_test_pred = clf.predict(X_test_transf)"
   ]
  },
  {
   "cell_type": "code",
   "execution_count": 18,
   "metadata": {
    "colab": {
     "base_uri": "https://localhost:8080/",
     "height": 279
    },
    "executionInfo": {
     "elapsed": 751,
     "status": "ok",
     "timestamp": 1661292889374,
     "user": {
      "displayName": "Sofiane Ikkour",
      "userId": "12163968403439377340"
     },
     "user_tz": -120
    },
    "id": "1CKZRiDcOvCo",
    "outputId": "f10ccc0b-62c2-43c0-e9b6-55d2b89ac1a9"
   },
   "outputs": [
    {
     "data": {
      "text/plain": [
       "<sklearn.metrics._plot.confusion_matrix.ConfusionMatrixDisplay at 0x17607c396a0>"
      ]
     },
     "execution_count": 18,
     "metadata": {},
     "output_type": "execute_result"
    },
    {
     "data": {
      "image/png": "[encoded data removed]",
      "text/plain": [
       "<Figure size 432x288 with 2 Axes>"
      ]
     },
     "metadata": {
      "needs_background": "light"
     },
     "output_type": "display_data"
    }
   ],
   "source": [
    "# create a confusion matrix\n",
    "ConfusionMatrixDisplay.from_predictions(y_test, y_test_pred,\n",
    "                                        labels = clf.classes_,\n",
    "                                        cmap = \"plasma\"\n",
    "                                        )"
   ]
  },
  {
   "cell_type": "markdown",
   "metadata": {
    "id": "fQDYY8Z7Ro4M"
   },
   "source": [
    "- True negatives: 167\n",
    "- False positives: 23\n",
    "- False negatives: 5\n",
    "- True positives: 196"
   ]
  },
  {
   "cell_type": "code",
   "execution_count": 19,
   "metadata": {
    "colab": {
     "base_uri": "https://localhost:8080/"
    },
    "executionInfo": {
     "elapsed": 275,
     "status": "ok",
     "timestamp": 1661292910896,
     "user": {
      "displayName": "Sofiane Ikkour",
      "userId": "12163968403439377340"
     },
     "user_tz": -120
    },
    "id": "LCXFQQ9oRoCU",
    "outputId": "0649114a-5246-454e-f689-a5f01a4a5f83"
   },
   "outputs": [
    {
     "name": "stdout",
     "output_type": "stream",
     "text": [
      "              precision    recall  f1-score   support\n",
      "\n",
      "         Ham       0.97      0.88      0.92       190\n",
      "        Spam       0.89      0.98      0.93       201\n",
      "\n",
      "    accuracy                           0.93       391\n",
      "   macro avg       0.93      0.93      0.93       391\n",
      "weighted avg       0.93      0.93      0.93       391\n",
      "\n"
     ]
    }
   ],
   "source": [
    "# print the classification report\n",
    "print(classification_report(y_test, y_test_pred, target_names = [\"Ham\", \"Spam\"]))"
   ]
  },
  {
   "cell_type": "markdown",
   "metadata": {
    "id": "F8I0Sc_L5Sps"
   },
   "source": [
    "**Insights:**\n",
    "- The accuracy of our model is 92%. This confirms the results shown by the confusion matrix.\n",
    "- The precision for the \"Ham\" class is 96% while the precision for the \"Spam\" class is 89%.\n",
    "- The recall for the \"Ham\" class is 87% and 97% for the \"Spam\" class.\n",
    "- The F1-score is 91% and 92% for the \"Ham\" ans \"Spam\" classes respectively. The F1-score penalizes low values for precision and recall but it does not for our model. This is because the difference between the lowest and highest values for precision and recall in each class are not significant. "
   ]
  },
  {
   "cell_type": "markdown",
   "metadata": {
    "id": "v7sozpz5JWvm"
   },
   "source": [
    "**Plotting probability distribution figures**"
   ]
  },
  {
   "cell_type": "code",
   "execution_count": 20,
   "metadata": {
    "colab": {
     "base_uri": "https://localhost:8080/",
     "height": 348
    },
    "executionInfo": {
     "elapsed": 1280,
     "status": "ok",
     "timestamp": 1661292945667,
     "user": {
      "displayName": "Sofiane Ikkour",
      "userId": "12163968403439377340"
     },
     "user_tz": -120
    },
    "id": "1nbfzmUyJU6R",
    "outputId": "a43d9cc2-fee7-4988-f8aa-19a4bac4387b"
   },
   "outputs": [
    {
     "data": {
      "image/png": "[encoded data removed]",
      "text/plain": [
       "<Figure size 864x360 with 2 Axes>"
      ]
     },
     "metadata": {},
     "output_type": "display_data"
    }
   ],
   "source": [
    "spam_proba = clf.predict_proba(X_test_transf).round(3)[:,1];\n",
    "df_scatter = pd.DataFrame()\n",
    "\n",
    "sns.set()\n",
    "df_scatter['True class'] = y_test\n",
    "df_scatter['Predicted class'] = y_test_pred\n",
    "df_scatter['Predicted probability (spam)'] = spam_proba\n",
    "\n",
    "df_scatter = df_scatter.reset_index(drop = True)\n",
    "\n",
    "palette_0 = sns.color_palette(['#000000'])\n",
    "palette_1 = sns.color_palette(['#FF0000'])\n",
    "\n",
    "df_scatter_0 = df_scatter[df_scatter['True class'] == 0].reset_index(drop = True)\n",
    "df_scatter_1 = df_scatter[df_scatter['True class'] == 1].reset_index(drop = True)\n",
    "\n",
    "fig, (ax1, ax2) = plt.subplots(2, 1, figsize=(12,5))\n",
    "fig.tight_layout(pad = 3)\n",
    "\n",
    "sns.scatterplot(x = 'Predicted probability (spam)', \n",
    "                y = np.zeros(df_scatter_0.shape[0]), \n",
    "                data = df_scatter_0,\n",
    "                hue = 'True class', \n",
    "                s = 50,\n",
    "                markers = ['o'],\n",
    "                palette = palette_0,\n",
    "                style = 'True class',\n",
    "                legend = False, \n",
    "                ax = ax1).set(yticklabels=[])\n",
    "\n",
    "ax1.set_title('Probability distribution of comments belonging to the true \\'ham\\' class')\n",
    "ax1.vlines(0.5, -1, 1, linestyles = 'dashed', colors = 'red');\n",
    "\n",
    "sns.scatterplot(x = 'Predicted probability (spam)', \n",
    "                y = np.zeros(df_scatter_1.shape[0]), \n",
    "                hue = 'True class', \n",
    "                data = df_scatter_1,\n",
    "                s = 50,\n",
    "                palette = palette_1,\n",
    "                markers = ['X'],\n",
    "                style = 'True class',\n",
    "                legend = False, \n",
    "                ax = ax2).set(yticklabels=[])\n",
    "\n",
    "ax2.set_title('Probability distribution of comments belonging to the true \\'spam\\' class')\n",
    "ax2.vlines(0.5, -1, 1, linestyles = 'dashed', colors = 'red');"
   ]
  },
  {
   "cell_type": "markdown",
   "metadata": {
    "id": "c8RrzdnLLrof"
   },
   "source": [
    "The x-axis of the two graphs above represent the probability of a comment belonging to the \"spam\" class. The comments with a probability lower than 0.5 are classified as \"Ham\", and the comments with a probability higher than 0.5 are classified as \"Spam\" comments. The vertical dash red line represents the probability equal to 0.5. The black dots show the samples belonging to the true \"Ham\" class, while the red crosses show the samples belonging to the true \"Spam\" class. I decided to plot them in two different figures to avoid overlapping the two classes. This graph is an alternative to the confusions matrix to evaluate graphically the performance of our model."
   ]
  },
  {
   "cell_type": "markdown",
   "metadata": {
    "id": "mheDfPcYWVpp"
   },
   "source": [
    "**Optimizing our algorithm**"
   ]
  },
  {
   "cell_type": "markdown",
   "metadata": {
    "id": "rLHqssR0kn5F"
   },
   "source": [
    "We can try to improve our model by adjusting the prior probabilities of the multinomial Naïve Bayes algorithm. By default, the algorithm determines these probabilities based on the training data which in this case consisted of the same number of ham and spam comments. So, our classifier assigned the same prior probabilities that are approximately of same proportion: P(ham) ≈ P(spam) ≈ 50%.\n",
    "Assumption: let's assume that P(ham) > P(spam). This translates the idea that most Youtube users are well intentioned and post more ham comments than spam comments. "
   ]
  },
  {
   "cell_type": "code",
   "execution_count": 21,
   "metadata": {
    "colab": {
     "base_uri": "https://localhost:8080/"
    },
    "executionInfo": {
     "elapsed": 248,
     "status": "ok",
     "timestamp": 1661292952660,
     "user": {
      "displayName": "Sofiane Ikkour",
      "userId": "12163968403439377340"
     },
     "user_tz": -120
    },
    "id": "LTVEuEExWZZn",
    "outputId": "2ee1bd03-7327-4f73-fd68-d533106d693b"
   },
   "outputs": [
    {
     "data": {
      "text/plain": [
       "array([0.48657289, 0.51342711])"
      ]
     },
     "execution_count": 21,
     "metadata": {},
     "output_type": "execute_result"
    }
   ],
   "source": [
    "# check the current log priors using the class_log_prior_ attribute\n",
    "np.exp(clf.class_log_prior_)"
   ]
  },
  {
   "cell_type": "code",
   "execution_count": 22,
   "metadata": {
    "executionInfo": {
     "elapsed": 273,
     "status": "ok",
     "timestamp": 1661292955128,
     "user": {
      "displayName": "Sofiane Ikkour",
      "userId": "12163968403439377340"
     },
     "user_tz": -120
    },
    "id": "uCJztUSwo28V"
   },
   "outputs": [],
   "source": [
    "# the priors turn out to be 49% for the ham class and 51% for the spam class\n",
    "# let's change the priors by providing an argument to the Naïve Bayes model\n",
    "clf = MultinomialNB(class_prior = np.array([0.6, 0.4])) # this will increase the prior to 60% for the ham class and decrease it to 40% to the spam class\n",
    "clf.fit(X_train_transf, y_train)\n",
    "\n",
    "# make the predictions\n",
    "y_test_pred = clf.predict(X_test_transf)"
   ]
  },
  {
   "cell_type": "code",
   "execution_count": 23,
   "metadata": {
    "colab": {
     "base_uri": "https://localhost:8080/",
     "height": 296
    },
    "executionInfo": {
     "elapsed": 291,
     "status": "ok",
     "timestamp": 1661292959973,
     "user": {
      "displayName": "Sofiane Ikkour",
      "userId": "12163968403439377340"
     },
     "user_tz": -120
    },
    "id": "HfAo0TpBtu4n",
    "outputId": "1119fe26-4953-4517-b1ec-78355dd1c7dd"
   },
   "outputs": [
    {
     "data": {
      "text/plain": [
       "<sklearn.metrics._plot.confusion_matrix.ConfusionMatrixDisplay at 0x1760b804250>"
      ]
     },
     "execution_count": 23,
     "metadata": {},
     "output_type": "execute_result"
    },
    {
     "data": {
      "image/png": "[encoded data removed]",
      "text/plain": [
       "<Figure size 432x288 with 2 Axes>"
      ]
     },
     "metadata": {
      "needs_background": "light"
     },
     "output_type": "display_data"
    }
   ],
   "source": [
    "# display the confusion matrix\n",
    "sns.reset_orig()\n",
    "ConfusionMatrixDisplay.from_predictions(y_test, y_test_pred,\n",
    "                                        labels = clf.classes_,\n",
    "                                        cmap = \"plasma\")"
   ]
  },
  {
   "cell_type": "markdown",
   "metadata": {
    "id": "KllynPlPw5bL"
   },
   "source": [
    "- True negatives: 181\n",
    "- False positives: 9\n",
    "- False negatives: 6\n",
    "- True positives: 195\n",
    "\n",
    "We can see that the number of falsely predicted spams has decreased from 23 to 9, and the number of correctly predicted hams has increased from 167 to 181. "
   ]
  },
  {
   "cell_type": "code",
   "execution_count": 24,
   "metadata": {
    "colab": {
     "base_uri": "https://localhost:8080/"
    },
    "executionInfo": {
     "elapsed": 287,
     "status": "ok",
     "timestamp": 1661293394363,
     "user": {
      "displayName": "Sofiane Ikkour",
      "userId": "12163968403439377340"
     },
     "user_tz": -120
    },
    "id": "O-B6CydGzNMQ",
    "outputId": "eb2dff95-3fcb-415d-a2de-cb4de54cf70b"
   },
   "outputs": [
    {
     "name": "stdout",
     "output_type": "stream",
     "text": [
      "              precision    recall  f1-score   support\n",
      "\n",
      "         Ham       0.97      0.95      0.96       190\n",
      "        Spam       0.96      0.97      0.96       201\n",
      "\n",
      "    accuracy                           0.96       391\n",
      "   macro avg       0.96      0.96      0.96       391\n",
      "weighted avg       0.96      0.96      0.96       391\n",
      "\n"
     ]
    }
   ],
   "source": [
    "# print the classification report\n",
    "print(classification_report(y_test, y_test_pred, target_names = [\"Ham\", \"Spam\"]))"
   ]
  },
  {
   "cell_type": "markdown",
   "metadata": {
    "id": "j7eWqv_qzd26"
   },
   "source": [
    "- We can see that the number of falsely predicted spams has decreased from 25 to 16, and the number of correctly predicted hams has increased from 165 to 174.\n",
    "- The accuracy of our optimized model has increased by 2% with 94% compared to 92%.\n",
    "- The F1-score is also better for both \"Ham\" and \"Spam\" classes."
   ]
  },
  {
   "cell_type": "markdown",
   "metadata": {
    "id": "zcbMQhCi0ZcW"
   },
   "source": [
    "**Making predictions**  \n",
    "\n",
    "This is the last task in which we will test our algorithm by predicting our own comments.\n"
   ]
  },
  {
   "cell_type": "code",
   "execution_count": 25,
   "metadata": {
    "colab": {
     "base_uri": "https://localhost:8080/"
    },
    "executionInfo": {
     "elapsed": 296,
     "status": "ok",
     "timestamp": 1661294040519,
     "user": {
      "displayName": "Sofiane Ikkour",
      "userId": "12163968403439377340"
     },
     "user_tz": -120
    },
    "id": "6_BUBUPR0x9C",
    "outputId": "10070c83-1e7e-430c-96ba-c828ca281914"
   },
   "outputs": [
    {
     "data": {
      "text/plain": [
       "array([0, 1], dtype=int64)"
      ]
     },
     "execution_count": 25,
     "metadata": {},
     "output_type": "execute_result"
    }
   ],
   "source": [
    "# write a comment and tokenize it using the vectorizer class\n",
    "comment = vectorizer.transform(['This song is wonderful! I love it.',\n",
    "                                'You can win 1m euros right now, just click here!!!'])\n",
    "\n",
    "# predict the data\n",
    "clf.predict(comment)"
   ]
  },
  {
   "cell_type": "markdown",
   "metadata": {
    "id": "U-3WTiGd2MrA"
   },
   "source": [
    "Our algorithm classified correctly the first and second comments as ham and spam respectively."
   ]
  }
 ],
 "metadata": {
  "colab": {
   "authorship_tag": "ABX9TyMFoYwa2mqy9k96v/gcwFb7",
   "collapsed_sections": [],
   "name": "Multinomial Naïve Bayes Classifier.ipynb",
   "provenance": []
  },
  "kernelspec": {
   "display_name": "Python 3",
   "language": "python",
   "name": "python3"
  },
  "language_info": {
   "codemirror_mode": {
    "name": "ipython",
    "version": 3
   },
   "file_extension": ".py",
   "mimetype": "text/x-python",
   "name": "python",
   "nbconvert_exporter": "python",
   "pygments_lexer": "ipython3",
   "version": "3.8.3"
  }
 },
 "nbformat": 4,
 "nbformat_minor": 1
}
